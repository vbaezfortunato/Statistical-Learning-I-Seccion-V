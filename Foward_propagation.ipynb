{
  "nbformat": 4,
  "nbformat_minor": 0,
  "metadata": {
    "colab": {
      "name": "Foward_propagation.ipynb",
      "provenance": [],
      "authorship_tag": "ABX9TyNm+LtlrmpxZNcLVXSCEgHQ",
      "include_colab_link": true
    },
    "kernelspec": {
      "name": "python3",
      "display_name": "Python 3"
    }
  },
  "cells": [
    {
      "cell_type": "markdown",
      "metadata": {
        "id": "view-in-github",
        "colab_type": "text"
      },
      "source": [
        "<a href=\"https://colab.research.google.com/github/vbaezfortunato/Statistical-Learning-I-Seccion-V/blob/master/Foward_propagation.ipynb\" target=\"_parent\"><img src=\"https://colab.research.google.com/assets/colab-badge.svg\" alt=\"Open In Colab\"/></a>"
      ]
    },
    {
      "cell_type": "markdown",
      "metadata": {
        "id": "KUgRpE8tXkdJ",
        "colab_type": "text"
      },
      "source": [
        "# **Foward Propagation**"
      ]
    },
    {
      "cell_type": "markdown",
      "metadata": {
        "id": "oyq8Vv2RXLI-",
        "colab_type": "text"
      },
      "source": [
        "* Utilizando Numpy definir una función para calcular la salida de los siguientes modelos\n",
        "\n",
        "* Dado que cada sub-modelo “detecta” una característica intermedia h(variable latente)\n",
        "determinar para cada entrada la característica intermedia con mayor presencia.\n"
      ]
    },
    {
      "cell_type": "code",
      "metadata": {
        "id": "9SydBTTqbYIQ",
        "colab_type": "code",
        "colab": {}
      },
      "source": [
        "import numpy as np"
      ],
      "execution_count": 5,
      "outputs": []
    },
    {
      "cell_type": "code",
      "metadata": {
        "id": "Hln6SZ1GhICB",
        "colab_type": "code",
        "colab": {}
      },
      "source": [
        "# Definir función sigmoid a utilizar como activación para las neuronas\n",
        "def sigmoid(X):\n",
        "  return 1/(1+np.exp(-X))"
      ],
      "execution_count": 25,
      "outputs": []
    },
    {
      "cell_type": "code",
      "metadata": {
        "id": "DaeqgoK5r1a9",
        "colab_type": "code",
        "colab": {}
      },
      "source": [
        "def relu(X):\n",
        "   return np.maximum(0,X)"
      ],
      "execution_count": 27,
      "outputs": []
    },
    {
      "cell_type": "code",
      "metadata": {
        "id": "tQRG-TGNr2V7",
        "colab_type": "code",
        "colab": {}
      },
      "source": [
        "def softmax(X):\n",
        "    expo = np.exp(X)\n",
        "    expo_sum = np.sum(np.exp(X))\n",
        "    return expo/expo_sum"
      ],
      "execution_count": 28,
      "outputs": []
    },
    {
      "cell_type": "markdown",
      "metadata": {
        "id": "9Ey-z-tWbWzU",
        "colab_type": "text"
      },
      "source": [
        "\n",
        "***Primera Red:***\n",
        "\n",
        "\n",
        "![Red_1.jpg](data:image/jpeg;base64,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)"
      ]
    },
    {
      "cell_type": "code",
      "metadata": {
        "id": "tQVRZw6aRhtH",
        "colab_type": "code",
        "colab": {}
      },
      "source": [
        "def foward_propagation(X,W_1,W_2):  \n",
        "        #matriz de pesos\n",
        "   X = np.append(X, 1)\n",
        "   capa_intermedia_1 = sigmoid(np.matmul(X,W_1))\n",
        "   X_1 = np.append(capa_intermedia_1, 1)\n",
        "            #multiplilcacion matricial \n",
        "   capa_final = sigmoid(np.matmul(X_1,W_2))\n",
        "    \n",
        "    \n",
        "    #print(features_2)\n",
        "   return capa_intermedia_1, capa_final"
      ],
      "execution_count": 75,
      "outputs": []
    },
    {
      "cell_type": "markdown",
      "metadata": {
        "id": "Z-Aruu_TmLIM",
        "colab_type": "text"
      },
      "source": [
        "\n",
        "\n",
        "**Cargar los  Weights de la Primera Red**"
      ]
    },
    {
      "cell_type": "code",
      "metadata": {
        "id": "t4y4MF8cl7dt",
        "colab_type": "code",
        "colab": {}
      },
      "source": [
        "W_1 = np.array([[5,7],[-2,-3],[-8,1]])\n",
        "W_2 = np.array([7,5,-6])\n",
        "X = np.array([1,1])\n"
      ],
      "execution_count": 78,
      "outputs": []
    },
    {
      "cell_type": "code",
      "metadata": {
        "id": "Tk7v4F_uuIYy",
        "colab_type": "code",
        "colab": {}
      },
      "source": [
        ""
      ],
      "execution_count": null,
      "outputs": []
    },
    {
      "cell_type": "code",
      "metadata": {
        "id": "xmh_af-Umixk",
        "colab_type": "code",
        "colab": {}
      },
      "source": [
        "intermedia, final = foward_propagation(X,W_1,W_2)"
      ],
      "execution_count": 82,
      "outputs": []
    },
    {
      "cell_type": "code",
      "metadata": {
        "id": "WTbCbZ0inezx",
        "colab_type": "code",
        "colab": {
          "base_uri": "https://localhost:8080/",
          "height": 35
        },
        "outputId": "627814df-cde8-44f3-da96-ab9de6f9f12f"
      },
      "source": [
        "print(\"Intermedia -->\",intermedia)"
      ],
      "execution_count": 60,
      "outputs": [
        {
          "output_type": "stream",
          "text": [
            "Intermedia --> [0.00669285 0.99330715]\n"
          ],
          "name": "stdout"
        }
      ]
    },
    {
      "cell_type": "code",
      "metadata": {
        "id": "s1DHvj18pY6m",
        "colab_type": "code",
        "colab": {
          "base_uri": "https://localhost:8080/",
          "height": 35
        },
        "outputId": "6105cb07-b151-4b34-e9ea-3e3d25c1d88a"
      },
      "source": [
        "print(\"Final -->\",final)"
      ],
      "execution_count": 61,
      "outputs": [
        {
          "output_type": "stream",
          "text": [
            "Final --> 0.2715813356119339\n"
          ],
          "name": "stdout"
        }
      ]
    },
    {
      "cell_type": "markdown",
      "metadata": {
        "id": "1ZBdQNUPsfky",
        "colab_type": "text"
      },
      "source": [
        "**Segunda Red:**\n",
        "\n",
        "![red_2.jpg](data:image/jpeg;base64,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)"
      ]
    },
    {
      "cell_type": "code",
      "metadata": {
        "id": "y_JtBZsGu7sJ",
        "colab_type": "code",
        "colab": {}
      },
      "source": [
        "def foward_propagation(X,W_1,W_2):  \n",
        "        #matriz de pesos\n",
        "   capa_intermedia_1 = sigmoid(np.matmul(X,W_1))\n",
        "   X_1 = capa_intermedia_1\n",
        "            #multiplilcacion matricial \n",
        "   capa_final = sigmoid(np.matmul(X_1,W_2))\n",
        "    \n",
        "    \n",
        "    #print(features_2)\n",
        "   return capa_intermedia_1, capa_final"
      ],
      "execution_count": 83,
      "outputs": []
    },
    {
      "cell_type": "code",
      "metadata": {
        "id": "q2L8-4iCsopd",
        "colab_type": "code",
        "colab": {}
      },
      "source": [
        "w_1 = np.array([[0.8, 0.4, 0.3],[0.2, 0.9, 0.5]])\n",
        "w_2 = np.array([0.3, 0.5, 0.9])\n",
        "X = np.array([1,1])"
      ],
      "execution_count": 62,
      "outputs": []
    },
    {
      "cell_type": "code",
      "metadata": {
        "id": "HC_WxkPUtCIX",
        "colab_type": "code",
        "colab": {}
      },
      "source": [
        "intermedia, final = foward_propagation(X,w_1,w_2)"
      ],
      "execution_count": 84,
      "outputs": []
    },
    {
      "cell_type": "code",
      "metadata": {
        "id": "NKZSEaUQtDwF",
        "colab_type": "code",
        "colab": {
          "base_uri": "https://localhost:8080/",
          "height": 35
        },
        "outputId": "67e13c48-93bc-4ac0-ca21-d002dca06515"
      },
      "source": [
        "print(\"Intermedia -->\",intermedia)"
      ],
      "execution_count": 85,
      "outputs": [
        {
          "output_type": "stream",
          "text": [
            "Intermedia --> [0.73105858 0.78583498 0.68997448]\n"
          ],
          "name": "stdout"
        }
      ]
    },
    {
      "cell_type": "code",
      "metadata": {
        "id": "majmzIFatHnF",
        "colab_type": "code",
        "colab": {
          "base_uri": "https://localhost:8080/",
          "height": 35
        },
        "outputId": "8ea6cc89-19fc-4a51-86ed-bd7eaae12cbc"
      },
      "source": [
        "print(\"Final -->\",final)"
      ],
      "execution_count": 86,
      "outputs": [
        {
          "output_type": "stream",
          "text": [
            "Final --> 0.7743802720529458\n"
          ],
          "name": "stdout"
        }
      ]
    },
    {
      "cell_type": "markdown",
      "metadata": {
        "id": "iflOwiivjLpO",
        "colab_type": "text"
      },
      "source": [
        "# **Parte 2:**\n",
        "\n",
        "* Calcular para cada posible punto en el dominio de xor la salida intermedia H = [h1, h2].\n",
        "* Mostrar la matriz resultante H en el notebook.\n",
        "* Graficar cada punto de la representación intermedia (scatter), usar diferente color y o marker según su etiqueta. Puesto que tiene 2 posibles valores, la gráfica debe tener 2 colores o markers.\n",
        "\n",
        "* Analizar el resultado intermedio, concluir y comentar opiniones"
      ]
    },
    {
      "cell_type": "markdown",
      "metadata": {
        "id": "6_7TK9gzmu3_",
        "colab_type": "text"
      },
      "source": [
        "![Red_3.jpg](data:image/jpeg;base64,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)"
      ]
    },
    {
      "cell_type": "code",
      "metadata": {
        "id": "86AocT5WpE4i",
        "colab_type": "code",
        "colab": {}
      },
      "source": [
        "# Heaviside step function\n",
        "def check_x (x):\n",
        "    return (x >= 0).astype(np.float)\n",
        "\n"
      ],
      "execution_count": 2,
      "outputs": []
    },
    {
      "cell_type": "code",
      "metadata": {
        "id": "-eNLJSQlodL-",
        "colab_type": "code",
        "colab": {}
      },
      "source": [
        "def forwardPropXOR(x, activation=check_x, retHidden=False):\n",
        "   \n",
        "    W_1 = np.array([[20., 20., -10.], [-20., -20., 30.]])\n",
        "    W_2 = np.array([[20, 20, -30]])\n",
        "    \n",
        "    z_1 = np.matmul(W_1, np.vstack((x, np.ones(x.shape[1]))))\n",
        "    h_1 = activation(z_1)\n",
        "    # Capa de salida\n",
        "    z_2 = np.matmul(W_2, np.vstack((h_1, np.ones(h_1.shape[1]))))\n",
        "    y = activation(z_2)\n",
        "    \n",
        "    if retHidden:\n",
        "        return y, h_1\n",
        "    return y"
      ],
      "execution_count": 110,
      "outputs": []
    },
    {
      "cell_type": "code",
      "metadata": {
        "id": "Y8t_co5rmtGO",
        "colab_type": "code",
        "colab": {
          "base_uri": "https://localhost:8080/",
          "height": 52
        },
        "outputId": "215e274b-85fc-454d-fc3c-6f18b7588034"
      },
      "source": [
        "x = np.array([[0,0], [0,1], [1,0], [1,1]])\n",
        "x = x.T\n",
        "x, x.shape"
      ],
      "execution_count": 107,
      "outputs": [
        {
          "output_type": "execute_result",
          "data": {
            "text/plain": [
              "(array([[0, 0, 1, 1],\n",
              "        [0, 1, 0, 1]]), (2, 4))"
            ]
          },
          "metadata": {
            "tags": []
          },
          "execution_count": 107
        }
      ]
    },
    {
      "cell_type": "code",
      "metadata": {
        "id": "j-XL5rOHqSWM",
        "colab_type": "code",
        "colab": {
          "base_uri": "https://localhost:8080/",
          "height": 69
        },
        "outputId": "46ea5f0c-62c6-4bad-fe71-b5dae5c66cad"
      },
      "source": [
        "np.vstack((x, np.ones(x.shape[1])))"
      ],
      "execution_count": 108,
      "outputs": [
        {
          "output_type": "execute_result",
          "data": {
            "text/plain": [
              "array([[0., 0., 1., 1.],\n",
              "       [0., 1., 0., 1.],\n",
              "       [1., 1., 1., 1.]])"
            ]
          },
          "metadata": {
            "tags": []
          },
          "execution_count": 108
        }
      ]
    },
    {
      "cell_type": "code",
      "metadata": {
        "id": "opj1-8Sppu5S",
        "colab_type": "code",
        "colab": {
          "base_uri": "https://localhost:8080/",
          "height": 35
        },
        "outputId": "da1c9e4e-587c-459e-86b6-e782248e7e82"
      },
      "source": [
        "forwardPropXOR(x)"
      ],
      "execution_count": 109,
      "outputs": [
        {
          "output_type": "execute_result",
          "data": {
            "text/plain": [
              "array([[0., 1., 1., 0.]])"
            ]
          },
          "metadata": {
            "tags": []
          },
          "execution_count": 109
        }
      ]
    },
    {
      "cell_type": "code",
      "metadata": {
        "id": "zf9Aki-ErK5X",
        "colab_type": "code",
        "colab": {}
      },
      "source": [
        "y_s = forwardPropXOR(x,activation=sigmoid)"
      ],
      "execution_count": 41,
      "outputs": []
    },
    {
      "cell_type": "code",
      "metadata": {
        "id": "yZ6V-mLrr9O2",
        "colab_type": "code",
        "colab": {}
      },
      "source": [
        "y_r = forwardPropXOR(x,activation=relu)"
      ],
      "execution_count": 42,
      "outputs": []
    },
    {
      "cell_type": "code",
      "metadata": {
        "id": "URjycKl2rirR",
        "colab_type": "code",
        "colab": {}
      },
      "source": [
        "y_so = forwardPropXOR(x,activation=softmax)"
      ],
      "execution_count": 43,
      "outputs": []
    },
    {
      "cell_type": "code",
      "metadata": {
        "id": "j6f7h0a2sUAw",
        "colab_type": "code",
        "colab": {}
      },
      "source": [
        " _,h =  forwardPropXOR(x,  retHidden=True)"
      ],
      "execution_count": 104,
      "outputs": []
    },
    {
      "cell_type": "code",
      "metadata": {
        "id": "eRB7qcjXsqhl",
        "colab_type": "code",
        "colab": {
          "base_uri": "https://localhost:8080/",
          "height": 35
        },
        "outputId": "c151c45e-e1ec-4ce6-e955-a65289d14821"
      },
      "source": [
        "h[0,:]"
      ],
      "execution_count": 113,
      "outputs": [
        {
          "output_type": "execute_result",
          "data": {
            "text/plain": [
              "array([0., 1., 1., 1.])"
            ]
          },
          "metadata": {
            "tags": []
          },
          "execution_count": 113
        }
      ]
    },
    {
      "cell_type": "code",
      "metadata": {
        "id": "0DkFmcoPtjKu",
        "colab_type": "code",
        "colab": {
          "base_uri": "https://localhost:8080/",
          "height": 72
        },
        "outputId": "e8ed11ef-c2b8-4f5c-a6cb-46c4abb7ad59"
      },
      "source": [
        "import matplotlib.pyplot as plt\n",
        "import seaborn as sns"
      ],
      "execution_count": 66,
      "outputs": [
        {
          "output_type": "stream",
          "text": [
            "/usr/local/lib/python3.6/dist-packages/statsmodels/tools/_testing.py:19: FutureWarning: pandas.util.testing is deprecated. Use the functions in the public API at pandas.testing instead.\n",
            "  import pandas.util.testing as tm\n"
          ],
          "name": "stderr"
        }
      ]
    },
    {
      "cell_type": "code",
      "metadata": {
        "id": "DwlUvN2sytsT",
        "colab_type": "code",
        "colab": {}
      },
      "source": [
        "def graficar(x1, x2, y):\n",
        "    f = np.abs(y-1) < 0.1\n",
        "    nf = np.logical_not(f)\n",
        "\n",
        "    plt.scatter(x1[f], x2[f], marker='*', label='1')\n",
        "    plt.scatter(x1[nf], x2[nf], marker='o', label='0')\n",
        "    plt.legend()"
      ],
      "execution_count": 129,
      "outputs": []
    },
    {
      "cell_type": "code",
      "metadata": {
        "id": "HfFHW05Sv-3e",
        "colab_type": "code",
        "colab": {
          "base_uri": "https://localhost:8080/",
          "height": 35
        },
        "outputId": "360b4d28-6eda-46d3-8b2f-5b35d72f7099"
      },
      "source": [
        " np.round(y_s).reshape(1,-1)"
      ],
      "execution_count": 116,
      "outputs": [
        {
          "output_type": "execute_result",
          "data": {
            "text/plain": [
              "array([[0., 1., 1., 0.]])"
            ]
          },
          "metadata": {
            "tags": []
          },
          "execution_count": 116
        }
      ]
    },
    {
      "cell_type": "code",
      "metadata": {
        "id": "rIt9JCetwWbJ",
        "colab_type": "code",
        "colab": {
          "base_uri": "https://localhost:8080/",
          "height": 35
        },
        "outputId": "e306a2f9-2560-4f41-a485-9bfcd652f1ac"
      },
      "source": [
        "h[0,:]"
      ],
      "execution_count": 121,
      "outputs": [
        {
          "output_type": "execute_result",
          "data": {
            "text/plain": [
              "array([0., 1., 1., 1.])"
            ]
          },
          "metadata": {
            "tags": []
          },
          "execution_count": 121
        }
      ]
    },
    {
      "cell_type": "code",
      "metadata": {
        "id": "y5nWiN3IwX78",
        "colab_type": "code",
        "colab": {
          "base_uri": "https://localhost:8080/",
          "height": 35
        },
        "outputId": "e7877449-365a-4477-da58-0ea137738696"
      },
      "source": [
        "h[1,:]"
      ],
      "execution_count": 122,
      "outputs": [
        {
          "output_type": "execute_result",
          "data": {
            "text/plain": [
              "array([1., 1., 1., 0.])"
            ]
          },
          "metadata": {
            "tags": []
          },
          "execution_count": 122
        }
      ]
    },
    {
      "cell_type": "code",
      "metadata": {
        "id": "Mc6JIeOfzbw-",
        "colab_type": "code",
        "colab": {
          "base_uri": "https://localhost:8080/",
          "height": 35
        },
        "outputId": "3026c386-cb36-4ec9-a3d2-a5e80cdabbed"
      },
      "source": [
        "x1 = x[0, :]\n",
        "x1"
      ],
      "execution_count": 123,
      "outputs": [
        {
          "output_type": "execute_result",
          "data": {
            "text/plain": [
              "array([0, 0, 1, 1])"
            ]
          },
          "metadata": {
            "tags": []
          },
          "execution_count": 123
        }
      ]
    },
    {
      "cell_type": "code",
      "metadata": {
        "id": "LPyen6JJzgyC",
        "colab_type": "code",
        "colab": {
          "base_uri": "https://localhost:8080/",
          "height": 35
        },
        "outputId": "43f2f14b-e172-4620-cdbe-03181708848a"
      },
      "source": [
        "x2 = x[1, :]\n",
        "x2"
      ],
      "execution_count": 126,
      "outputs": [
        {
          "output_type": "execute_result",
          "data": {
            "text/plain": [
              "array([0, 1, 0, 1])"
            ]
          },
          "metadata": {
            "tags": []
          },
          "execution_count": 126
        }
      ]
    },
    {
      "cell_type": "code",
      "metadata": {
        "id": "Od8qFixDtXPQ",
        "colab_type": "code",
        "colab": {
          "base_uri": "https://localhost:8080/",
          "height": 281
        },
        "outputId": "a197cbea-14d3-4ead-fb66-e68fb495fc7f"
      },
      "source": [
        "x1 = x[0, :]\n",
        "x2 = x[1, :]\n",
        "\n",
        "plt.figure(figsize=(16, 4))\n",
        "plt.subplot(1,3,1)\n",
        "graficar(x1, x2, h[0, :])\n",
        "plt.title(\"h_1\")\n",
        "plt.subplot(1,3,2)\n",
        "graficar(x1, x2, h[1, :])\n",
        "plt.title(\"h_2\")\n",
        "plt.subplot(1,3,3)\n",
        "graficar(x1, x2, forwardPropXOR(x,activation=sigmoid).squeeze())\n",
        "plt.title(\"y\");\n"
      ],
      "execution_count": 132,
      "outputs": [
        {
          "output_type": "display_data",
          "data": {
            "image/png": "[encoded data removed]",
            "text/plain": [
              "<Figure size 1152x288 with 3 Axes>"
            ]
          },
          "metadata": {
            "tags": [],
            "needs_background": "light"
          }
        }
      ]
    },
    {
      "cell_type": "markdown",
      "metadata": {
        "id": "cEGRj3qG2Toq",
        "colab_type": "text"
      },
      "source": [
        "# **Conclusion:** \n",
        "\n",
        "* Como podemos obversar las capas intermedias muestra un comportamiento AND del modelo *XOR* es decir que la activacion ocurre en caso particulares.\n",
        "* Las capas de salidas muestra el OR comportamiento permitiedo que las salidas de las capas intermedias.\n"
      ]
    }
  ]
}