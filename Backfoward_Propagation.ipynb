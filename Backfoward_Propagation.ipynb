{
  "nbformat": 4,
  "nbformat_minor": 0,
  "metadata": {
    "colab": {
      "name": "Backfoward Propagation.ipynb",
      "provenance": [],
      "collapsed_sections": [],
      "authorship_tag": "ABX9TyN+K7VZ4MCZV89KIvVTFtuv",
      "include_colab_link": true
    },
    "kernelspec": {
      "name": "python3",
      "display_name": "Python 3"
    }
  },
  "cells": [
    {
      "cell_type": "markdown",
      "metadata": {
        "id": "view-in-github",
        "colab_type": "text"
      },
      "source": [
        "<a href=\"https://colab.research.google.com/github/vbaezfortunato/Statistical-Learning-I-Seccion-V/blob/master/Backfoward_Propagation.ipynb\" target=\"_parent\"><img src=\"https://colab.research.google.com/assets/colab-badge.svg\" alt=\"Open In Colab\"/></a>"
      ]
    },
    {
      "cell_type": "code",
      "metadata": {
        "id": "gmKkIPxp5ySZ",
        "colab_type": "code",
        "colab": {}
      },
      "source": [
        "import numpy as np\n",
        "import matplotlib.pyplot as plt\n",
        "%matplotlib inline"
      ],
      "execution_count": 19,
      "outputs": []
    },
    {
      "cell_type": "code",
      "metadata": {
        "id": "EGJBo3-U6ZB8",
        "colab_type": "code",
        "colab": {}
      },
      "source": [
        "features = np.array([[0,0],\n",
        "                     [0,1],\n",
        "                     [1,0],\n",
        "                     [1,1]])"
      ],
      "execution_count": 20,
      "outputs": []
    },
    {
      "cell_type": "code",
      "metadata": {
        "id": "ILMhEjKm6j-B",
        "colab_type": "code",
        "colab": {}
      },
      "source": [
        "label = np.array([[0],\n",
        "                      [1],\n",
        "                      [1],\n",
        "                      [0]])"
      ],
      "execution_count": 21,
      "outputs": []
    },
    {
      "cell_type": "code",
      "metadata": {
        "id": "KcflqvfK6-id",
        "colab_type": "code",
        "colab": {
          "base_uri": "https://localhost:8080/",
          "height": 87
        },
        "outputId": "9bfa4084-b7a0-47c8-9aea-35c0517a9f45"
      },
      "source": [
        "u_1 = np.ones((4,1))\n",
        "u_1"
      ],
      "execution_count": 22,
      "outputs": [
        {
          "output_type": "execute_result",
          "data": {
            "text/plain": [
              "array([[1.],\n",
              "       [1.],\n",
              "       [1.],\n",
              "       [1.]])"
            ]
          },
          "metadata": {
            "tags": []
          },
          "execution_count": 22
        }
      ]
    },
    {
      "cell_type": "code",
      "metadata": {
        "id": "MDMDzGSh7pmZ",
        "colab_type": "code",
        "colab": {
          "base_uri": "https://localhost:8080/",
          "height": 87
        },
        "outputId": "9e8857e5-8405-4076-e202-7b1f9463272b"
      },
      "source": [
        "u_2 = np.ones((4,1))\n",
        "u_2"
      ],
      "execution_count": 23,
      "outputs": [
        {
          "output_type": "execute_result",
          "data": {
            "text/plain": [
              "array([[1.],\n",
              "       [1.],\n",
              "       [1.],\n",
              "       [1.]])"
            ]
          },
          "metadata": {
            "tags": []
          },
          "execution_count": 23
        }
      ]
    },
    {
      "cell_type": "code",
      "metadata": {
        "id": "5C2eNyu48C7K",
        "colab_type": "code",
        "colab": {
          "base_uri": "https://localhost:8080/",
          "height": 87
        },
        "outputId": "f73f4371-1c81-4925-e8d1-75174aab331c"
      },
      "source": [
        "u_end = np.ones((4,1))\n",
        "u_end"
      ],
      "execution_count": 24,
      "outputs": [
        {
          "output_type": "execute_result",
          "data": {
            "text/plain": [
              "array([[1.],\n",
              "       [1.],\n",
              "       [1.],\n",
              "       [1.]])"
            ]
          },
          "metadata": {
            "tags": []
          },
          "execution_count": 24
        }
      ]
    },
    {
      "cell_type": "code",
      "metadata": {
        "id": "X-_Vkh3K7Hiu",
        "colab_type": "code",
        "colab": {}
      },
      "source": [
        "mu,sigma = 0.1, 0.5 "
      ],
      "execution_count": 25,
      "outputs": []
    },
    {
      "cell_type": "code",
      "metadata": {
        "id": "n0jabtyV7Rdw",
        "colab_type": "code",
        "colab": {
          "base_uri": "https://localhost:8080/",
          "height": 52
        },
        "outputId": "43cecee4-a2a6-4dbf-af6a-cdacec379ad1"
      },
      "source": [
        "w_1 = np.random.normal(mu, sigma,(2,2))\n",
        "w_1"
      ],
      "execution_count": 26,
      "outputs": [
        {
          "output_type": "execute_result",
          "data": {
            "text/plain": [
              "array([[-0.25616372,  0.13680058],\n",
              "       [-0.58088197,  0.07644586]])"
            ]
          },
          "metadata": {
            "tags": []
          },
          "execution_count": 26
        }
      ]
    },
    {
      "cell_type": "code",
      "metadata": {
        "id": "WNLBeRBL7tfq",
        "colab_type": "code",
        "colab": {
          "base_uri": "https://localhost:8080/",
          "height": 52
        },
        "outputId": "6ea7dc5a-4d0d-4e7f-d003-c8410452af45"
      },
      "source": [
        "w_2 = np.random.normal(mu, sigma,(2,2))\n",
        "w_2"
      ],
      "execution_count": 27,
      "outputs": [
        {
          "output_type": "execute_result",
          "data": {
            "text/plain": [
              "array([[ 0.0312428 , -0.13077284],\n",
              "       [ 0.4827419 , -0.31200913]])"
            ]
          },
          "metadata": {
            "tags": []
          },
          "execution_count": 27
        }
      ]
    },
    {
      "cell_type": "code",
      "metadata": {
        "id": "go569lhv8Ise",
        "colab_type": "code",
        "colab": {
          "base_uri": "https://localhost:8080/",
          "height": 52
        },
        "outputId": "cb71844a-6ffc-4033-8529-01353595c8c2"
      },
      "source": [
        "w_end = np.random.normal(mu, sigma,(2,1))\n",
        "w_end"
      ],
      "execution_count": 28,
      "outputs": [
        {
          "output_type": "execute_result",
          "data": {
            "text/plain": [
              "array([[-0.53638072],\n",
              "       [ 0.78837378]])"
            ]
          },
          "metadata": {
            "tags": []
          },
          "execution_count": 28
        }
      ]
    },
    {
      "cell_type": "code",
      "metadata": {
        "id": "insM6Jgc7R0L",
        "colab_type": "code",
        "colab": {
          "base_uri": "https://localhost:8080/",
          "height": 35
        },
        "outputId": "b5193d6e-1152-46ec-c9ec-f1f432079bca"
      },
      "source": [
        "\n",
        "b_1 = np.random.normal(mu, sigma,(1,2))\n",
        "b_1"
      ],
      "execution_count": 29,
      "outputs": [
        {
          "output_type": "execute_result",
          "data": {
            "text/plain": [
              "array([[0.55236956, 0.41169182]])"
            ]
          },
          "metadata": {
            "tags": []
          },
          "execution_count": 29
        }
      ]
    },
    {
      "cell_type": "code",
      "metadata": {
        "id": "02aFyZDl7yOr",
        "colab_type": "code",
        "colab": {
          "base_uri": "https://localhost:8080/",
          "height": 35
        },
        "outputId": "ccf11d25-8ccf-4d90-f783-19916ef949c5"
      },
      "source": [
        "b_2 = np.random.normal(mu, sigma,(1,2))\n",
        "b_2"
      ],
      "execution_count": 30,
      "outputs": [
        {
          "output_type": "execute_result",
          "data": {
            "text/plain": [
              "array([[-0.24090124,  1.02529094]])"
            ]
          },
          "metadata": {
            "tags": []
          },
          "execution_count": 30
        }
      ]
    },
    {
      "cell_type": "code",
      "metadata": {
        "id": "shlfeKOP8Si6",
        "colab_type": "code",
        "colab": {
          "base_uri": "https://localhost:8080/",
          "height": 35
        },
        "outputId": "b4794d11-7438-482a-b9bc-f312d16b8326"
      },
      "source": [
        "b_end = np.random.normal(mu, sigma,(1,1))\n",
        "b_end"
      ],
      "execution_count": 31,
      "outputs": [
        {
          "output_type": "execute_result",
          "data": {
            "text/plain": [
              "array([[-0.11380992]])"
            ]
          },
          "metadata": {
            "tags": []
          },
          "execution_count": 31
        }
      ]
    },
    {
      "cell_type": "markdown",
      "metadata": {
        "id": "AdVOB_dG8WSm",
        "colab_type": "text"
      },
      "source": [
        "# **Activation:**"
      ]
    },
    {
      "cell_type": "code",
      "metadata": {
        "id": "gn_2yoNx8aIs",
        "colab_type": "code",
        "colab": {}
      },
      "source": [
        "def relu(X):\n",
        "   return np.maximum(0,X)\n",
        "  "
      ],
      "execution_count": 32,
      "outputs": []
    },
    {
      "cell_type": "code",
      "metadata": {
        "id": "P_cnbQIi8tsX",
        "colab_type": "code",
        "colab": {}
      },
      "source": [
        "def heaviside (x):\n",
        "    derivada = (x >=0).astype(float)\n",
        "    return derivada"
      ],
      "execution_count": 33,
      "outputs": []
    },
    {
      "cell_type": "code",
      "metadata": {
        "id": "Jtpk-cbT72kZ",
        "colab_type": "code",
        "colab": {}
      },
      "source": [
        "def backfoward(x,y,p_1,p_2,p_f,ba_1,ba_2,ba_end,u1,u2,u_end,lr=0.1,epochs=10,imprimir=2):\n",
        "    \n",
        "    for i in range(epochs):\n",
        "        ## forward propagation\n",
        "        ## capa intermedia_1\n",
        "        kpa_inter_1 = np.matmul(x,p_1) + ba_1\n",
        "        kpa_inter_1_act = relu(kpa_inter_1)\n",
        "    \n",
        "        ## capa intermedia_2\n",
        "        kpa_inter_2 = np.matmul(kpa_inter_1_act,p_2) + ba_2\n",
        "        kpa_inter_2_act = relu(kpa_inter_2)\n",
        "    \n",
        "        ## capa final sin activacion\n",
        "        kpa_final = np.matmul(kpa_inter_2_act,p_f) + ba_end\n",
        "    \n",
        "        ## backward propagation\n",
        "        \n",
        "        delta_f = y - kpa_final \n",
        "    \n",
        "        ## error en la capa intermedia 2\n",
        "        delta_kpa_inter_2 = np.matmul(p_f,delta_f.T).T * heaviside(kpa_inter_2)\n",
        "     \n",
        "        ## error en la capa inter 1\n",
        "        delta_kpa_inter_1 = np.matmul(p_2,delta_kpa_inter_2.T).T * heaviside(kpa_inter_1)\n",
        "    \n",
        "        ## Gradientes\n",
        "        \n",
        "        ## gradiente capa intermedia 1\n",
        "        G_kpa_inter_1 = np.mean(np.matmul(x,delta_kpa_inter_1.T), axis = 0).reshape(2,2)\n",
        "        \n",
        "        ## gradiente capa intermedia 2\n",
        "        G_kpa_inter_2 = np.mean(np.matmul(kpa_inter_1_act,delta_kpa_inter_2.T), axis = 0).reshape(2,2)\n",
        "        \n",
        "        ## gradiente capa final\n",
        "        G_kpa_f = np.matmul(kpa_inter_2_act.T,delta_f)\n",
        "        \n",
        "        ## bias\n",
        "      \n",
        "        b_kpa_inter_1 = np.matmul(u1.T,delta_kpa_inter_1)\n",
        "        \n",
        "        ## bias capa intermida 1\n",
        "        b_kpa_inter_2 = np.matmul(u2.T,delta_kpa_inter_2)\n",
        "        \n",
        "        ## bias capa final\n",
        "        b_kpa_f = np.matmul(u_end.T,delta_f)       \n",
        "          \n",
        "        ## weight updated\n",
        "        p_f = p_f - (lr * G_kpa_f)\n",
        "        p_2 = p_2 - (lr * G_kpa_inter_2)\n",
        "        p_1 = p_1 - (lr * G_kpa_inter_1)\n",
        "        \n",
        "        ## bias \n",
        "        ba_end = ba_end - (lr * b_kpa_f)\n",
        "        ba_2 = ba_2 - (lr * b_kpa_inter_2)\n",
        "        ba_1 = ba_1 - (lr * b_kpa_inter_1)\n",
        "        \n",
        "        ##  MSE\n",
        "        error = (np.mean(np.power(y-kpa_final,2)))*0.5\n",
        "        \n",
        "        if i % imprimir == 0: \n",
        "            print(\"Error\", i, error)\n",
        "       \n",
        "    \n",
        "    fig  = plt.figure(figsize=(10,5))\n",
        "    ax1 = fig.add_subplot(1,1,1)\n",
        "    ax1.scatter(kpa_inter_2_act[:,0],kpa_inter_2_act[:,1])\n",
        "    plt.show()\n",
        "    \n",
        "    return kpa_inter_2_act\n"
      ],
      "execution_count": 34,
      "outputs": []
    },
    {
      "cell_type": "code",
      "metadata": {
        "id": "HLX-KbXk-VX7",
        "colab_type": "code",
        "colab": {
          "base_uri": "https://localhost:8080/",
          "height": 736
        },
        "outputId": "66f17cc6-20b6-48a9-eae2-29ca0df7d941"
      },
      "source": [
        "backfoward(features,label,np.random.normal(mu, sigma,(2,2)),np.random.normal(mu, sigma,(2,2)),np.random.normal(mu, sigma,(2,1)),np.random.normal(mu, sigma,(1,2)),np.random.normal(mu, sigma,(1,2)),np.random.normal(mu, sigma,(1,1)),u_1,u_2,u_end,0.000001,20,1)"
      ],
      "execution_count": 36,
      "outputs": [
        {
          "output_type": "stream",
          "text": [
            "Error 0 0.19356708439385228\n",
            "Error 1 0.1935681041105472\n",
            "Error 2 0.19356912384261582\n",
            "Error 3 0.19357014359005836\n",
            "Error 4 0.19357116335287522\n",
            "Error 5 0.19357218313106647\n",
            "Error 6 0.19357320292463243\n",
            "Error 7 0.1935742227335733\n",
            "Error 8 0.1935752425578894\n",
            "Error 9 0.19357626239758086\n",
            "Error 10 0.19357728225264803\n",
            "Error 11 0.19357830212309113\n",
            "Error 12 0.19357932200891034\n",
            "Error 13 0.19358034191010604\n",
            "Error 14 0.19358136182667834\n",
            "Error 15 0.19358238175862752\n",
            "Error 16 0.19358340170595384\n",
            "Error 17 0.19358442166865752\n",
            "Error 18 0.19358544164673883\n",
            "Error 19 0.19358646164019805\n"
          ],
          "name": "stdout"
        },
        {
          "output_type": "display_data",
          "data": {
            "image/png": "[encoded data removed]",
            "text/plain": [
              "<Figure size 720x360 with 1 Axes>"
            ]
          },
          "metadata": {
            "tags": [],
            "needs_background": "light"
          }
        },
        {
          "output_type": "execute_result",
          "data": {
            "text/plain": [
              "array([[0.05417295, 0.73874467],\n",
              "       [0.05417295, 0.73874467],\n",
              "       [0.236592  , 0.55960739],\n",
              "       [0.21238364, 0.58338023]])"
            ]
          },
          "metadata": {
            "tags": []
          },
          "execution_count": 36
        }
      ]
    },
    {
      "cell_type": "code",
      "metadata": {
        "id": "Yp2D0k8PZcXJ",
        "colab_type": "code",
        "colab": {
          "base_uri": "https://localhost:8080/",
          "height": 563
        },
        "outputId": "ad09637c-d418-4354-ef0a-bca33a96cdb7"
      },
      "source": [
        "backfoward(features,label,np.random.normal(mu, sigma,(2,2)),np.random.normal(mu, sigma,(2,2)),np.random.normal(mu, sigma,(2,1)),np.random.normal(mu, sigma,(1,2)),np.random.normal(mu, sigma,(1,2)),np.random.normal(mu, sigma,(1,1)),u_1,u_2,u_end,0.000001,1000,100)"
      ],
      "execution_count": 47,
      "outputs": [
        {
          "output_type": "stream",
          "text": [
            "Error 0 0.7626882826889776\n",
            "Error 100 0.7637751862627533\n",
            "Error 200 0.7648641106726697\n",
            "Error 300 0.7659550609080182\n",
            "Error 400 0.7670480419757268\n",
            "Error 500 0.7681430589004359\n",
            "Error 600 0.7692401167245808\n",
            "Error 700 0.7703392205084678\n",
            "Error 800 0.7714403753303621\n",
            "Error 900 0.7725435862865597\n"
          ],
          "name": "stdout"
        },
        {
          "output_type": "display_data",
          "data": {
            "image/png": "[encoded data removed]",
            "text/plain": [
              "<Figure size 720x360 with 1 Axes>"
            ]
          },
          "metadata": {
            "tags": [],
            "needs_background": "light"
          }
        },
        {
          "output_type": "execute_result",
          "data": {
            "text/plain": [
              "array([[1.20085373, 0.00285436],\n",
              "       [1.11652928, 0.        ],\n",
              "       [0.88568388, 0.53684374],\n",
              "       [0.80135943, 0.39841814]])"
            ]
          },
          "metadata": {
            "tags": []
          },
          "execution_count": 47
        }
      ]
    },
    {
      "cell_type": "markdown",
      "metadata": {
        "id": "q_b_peQiawau",
        "colab_type": "text"
      },
      "source": [
        "**Conclusion:**\n",
        "\n",
        "*  Por lo que se puedo ver en backforward propagation mientras mejor se definar los parametros al inicio mas facil el proceso puede converger.\n",
        "\n",
        "*  En las Capas intermedias se nota que los valores de x se centra esto es debido a la utilizacion de relu como activacion.\n"
      ]
    }
  ]
}